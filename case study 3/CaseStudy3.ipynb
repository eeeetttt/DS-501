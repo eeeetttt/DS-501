{
 "cells": [
  {
   "cell_type": "markdown",
   "metadata": {},
   "source": [
    "## Problem 1 (20 points): Complete Exercise 2: Sentiment Analysis on Movie Reviews from http://scikit-learn.org/stable/tutorial/text_analytics/working_with_text_data.html"
   ]
  },
  {
   "cell_type": "markdown",
   "metadata": {},
   "source": [
    "* Assuming that you have downloaded the scikit-learn source code (depending on your distribution). You may need to download this directly from Gitub at https://github.com/scikit-learn/scikit-learn:\n",
    "    * The data can be downloaded using https://github.com/scikit-learn/scikit-learn/blob/master/doc/tutorial/text_analytics/data/movie_reviews/fetch_data.py.\n",
    "    * A skeleton for the solution can be found in https://github.com/scikit-learn/scikit-learn/blob/master/doc/tutorial/text_analytics/skeletons/exercise_02_sentiment.py.\n",
    "    * A completed solution can be found in https://github.com/scikit-learn/scikit-learn/blob/master/doc/tutorial/text_analytics/solutions/exercise_02_sentiment.py.\n",
    "* **It is ok to use the solution provided in the scikit-learn distribution as a starting place for your work.**\n",
    "\n",
    "### Modify the solution on Exercise 2 so that it can run in this iPython notebook\n",
    "* This will likely involved moving around data files and/or small modifications to the script."
   ]
  },
  {
   "cell_type": "code",
   "execution_count": 198,
   "metadata": {},
   "outputs": [],
   "source": [
    "#Importing essential libraries\n",
    "import nltk\n",
    "import sys\n",
    "import re\n",
    "import numpy as np\n",
    "import pandas as pd\n",
    "import matplotlib.pyplot as plt\n",
    "import seaborn as sns\n",
    "from sklearn import svm\n",
    "from sklearn.feature_extraction.text import TfidfVectorizer\n",
    "from sklearn.svm import LinearSVC\n",
    "from sklearn.neighbors import KNeighborsClassifier\n",
    "from sklearn.pipeline import Pipeline\n",
    "from sklearn.model_selection import GridSearchCV\n",
    "from sklearn.datasets import load_files\n",
    "from sklearn.model_selection import train_test_split\n",
    "from sklearn import metrics\n",
    "from sklearn.metrics import f1_score\n"
   ]
  },
  {
   "cell_type": "code",
   "execution_count": 199,
   "metadata": {},
   "outputs": [
    {
     "name": "stdout",
     "output_type": "stream",
     "text": [
      "No of samples present in our dataset:  2000\n"
     ]
    }
   ],
   "source": [
    "#Loading the dataset\n",
    "dataset = load_files('txt_sentoken', shuffle=False)\n",
    "\n",
    "#Printing the number of data samples\n",
    "print(\"No of samples present in our dataset: \",len(dataset.data))\n"
   ]
  },
  {
   "cell_type": "code",
   "execution_count": 200,
   "metadata": {},
   "outputs": [
    {
     "data": {
      "text/html": [
       "<div>\n",
       "<style scoped>\n",
       "    .dataframe tbody tr th:only-of-type {\n",
       "        vertical-align: middle;\n",
       "    }\n",
       "\n",
       "    .dataframe tbody tr th {\n",
       "        vertical-align: top;\n",
       "    }\n",
       "\n",
       "    .dataframe thead th {\n",
       "        text-align: right;\n",
       "    }\n",
       "</style>\n",
       "<table border=\"1\" class=\"dataframe\">\n",
       "  <thead>\n",
       "    <tr style=\"text-align: right;\">\n",
       "      <th></th>\n",
       "      <th>review</th>\n",
       "      <th>sentiment</th>\n",
       "    </tr>\n",
       "  </thead>\n",
       "  <tbody>\n",
       "    <tr>\n",
       "      <th>0</th>\n",
       "      <td>b'plot : two teen couples go to a church party...</td>\n",
       "      <td>0</td>\n",
       "    </tr>\n",
       "    <tr>\n",
       "      <th>1</th>\n",
       "      <td>b'the happy bastard\\'s quick movie review \\nda...</td>\n",
       "      <td>0</td>\n",
       "    </tr>\n",
       "    <tr>\n",
       "      <th>2</th>\n",
       "      <td>b\"it is movies like these that make a jaded mo...</td>\n",
       "      <td>0</td>\n",
       "    </tr>\n",
       "    <tr>\n",
       "      <th>3</th>\n",
       "      <td>b' \" quest for camelot \" is warner bros . \\' f...</td>\n",
       "      <td>0</td>\n",
       "    </tr>\n",
       "    <tr>\n",
       "      <th>4</th>\n",
       "      <td>b'synopsis : a mentally unstable man undergoin...</td>\n",
       "      <td>0</td>\n",
       "    </tr>\n",
       "  </tbody>\n",
       "</table>\n",
       "</div>"
      ],
      "text/plain": [
       "                                              review sentiment\n",
       "0  b'plot : two teen couples go to a church party...         0\n",
       "1  b'the happy bastard\\'s quick movie review \\nda...         0\n",
       "2  b\"it is movies like these that make a jaded mo...         0\n",
       "3  b' \" quest for camelot \" is warner bros . \\' f...         0\n",
       "4  b'synopsis : a mentally unstable man undergoin...         0"
      ]
     },
     "execution_count": 200,
     "metadata": {},
     "output_type": "execute_result"
    }
   ],
   "source": [
    "#Creating a DataFrame out of the dataset.data\n",
    "data=pd.DataFrame([dataset.data,dataset.target]).T\n",
    "\n",
    "data.columns=['review','sentiment']\n",
    "data.head(5)"
   ]
  },
  {
   "cell_type": "markdown",
   "metadata": {},
   "source": [
    "We can see that our review needs a lot of pre-processing\n",
    "\n",
    "Preprocessing the \"review\" column and making it ready for analysis.\n",
    "\n",
    "Step 1: At first the the \"review\" is traversed and only the alphabets are kept while filtering out everything else and then the alphabets are converted into lowercase.\n",
    "\n",
    "Step 2: The most common words also known as stop words are removed.\n",
    "\n",
    "Step 3: Lemmatization is performed.\n",
    "\n",
    "Step 4: Stemming is performed."
   ]
  },
  {
   "cell_type": "code",
   "execution_count": 201,
   "metadata": {},
   "outputs": [
    {
     "name": "stdout",
     "output_type": "stream",
     "text": [
      "Snapshot of data['review']\n",
      "\n",
      "\n"
     ]
    },
    {
     "data": {
      "text/plain": [
       "0       b'plot : two teen couples go to a church party...\n",
       "1       b'the happy bastard\\'s quick movie review \\nda...\n",
       "2       b\"it is movies like these that make a jaded mo...\n",
       "3       b' \" quest for camelot \" is warner bros . \\' f...\n",
       "4       b'synopsis : a mentally unstable man undergoin...\n",
       "                              ...                        \n",
       "1995    b\"wow ! what a movie . \\nit's everything a mov...\n",
       "1996    b'richard gere can be a commanding actor , but...\n",
       "1997    b'glory--starring matthew broderick , denzel w...\n",
       "1998    b'steven spielberg\\'s second epic film on worl...\n",
       "1999    b'truman ( \" true-man \" ) burbank is the perfe...\n",
       "Name: review, Length: 2000, dtype: object"
      ]
     },
     "execution_count": 201,
     "metadata": {},
     "output_type": "execute_result"
    }
   ],
   "source": [
    "#Displaying \"review\" before preprocessing begins.\n",
    "\n",
    "print(\"Snapshot of data['review']\\n\\n\")\n",
    "data['review']"
   ]
  },
  {
   "cell_type": "code",
   "execution_count": 202,
   "metadata": {},
   "outputs": [],
   "source": [
    "# function for text cleaning\n",
    " \n",
    "def clean(text):\n",
    "    text=text.decode('ISO-8859-1')\n",
    "    # remove backslash-apostrophe \n",
    "    text = re.sub(\"\\'\", \"\", text) \n",
    "    # remove everything except alphabets \n",
    "    text = re.sub(\"[^a-zA-Z]\",\" \",text) \n",
    "    # remove whitespaces \n",
    "    text = ' '.join(text.split()) \n",
    "    # convert text to lowercase \n",
    "    text = text.lower() \n",
    "    \n",
    "    return text\n",
    "\n",
    "data['review']=data['review'].apply(lambda x: clean(x))"
   ]
  },
  {
   "cell_type": "code",
   "execution_count": 203,
   "metadata": {},
   "outputs": [
    {
     "name": "stdout",
     "output_type": "stream",
     "text": [
      "Snapshot of data['review']\n",
      "\n",
      "\n"
     ]
    },
    {
     "data": {
      "text/plain": [
       "0       plot two teen couples go to a church party dri...\n",
       "1       the happy bastards quick movie review damn tha...\n",
       "2       it is movies like these that make a jaded movi...\n",
       "3       quest for camelot is warner bros first feature...\n",
       "4       synopsis a mentally unstable man undergoing ps...\n",
       "                              ...                        \n",
       "1995    wow what a movie its everything a movie can be...\n",
       "1996    richard gere can be a commanding actor but hes...\n",
       "1997    glory starring matthew broderick denzel washin...\n",
       "1998    steven spielbergs second epic film on world wa...\n",
       "1999    truman true man burbank is the perfect name fo...\n",
       "Name: review, Length: 2000, dtype: object"
      ]
     },
     "execution_count": 203,
     "metadata": {},
     "output_type": "execute_result"
    }
   ],
   "source": [
    "#Displaying \"review\" after text-cleaning.\n",
    "\n",
    "print(\"Snapshot of data['review']\\n\\n\")\n",
    "data['review']"
   ]
  },
  {
   "cell_type": "code",
   "execution_count": 204,
   "metadata": {},
   "outputs": [
    {
     "name": "stdout",
     "output_type": "stream",
     "text": [
      "Graph to visualize the words and frequency in data's review.\n",
      "\n",
      "\n"
     ]
    },
    {
     "data": {
      "image/png": "[encoded data removed]",
      "text/plain": [
       "<Figure size 720x504 with 1 Axes>"
      ]
     },
     "metadata": {},
     "output_type": "display_data"
    }
   ],
   "source": [
    "#Function to visualize the words and frequency in book's summary.\n",
    "\n",
    "print(\"Graph to visualize the words and frequency in data's review.\\n\\n\")\n",
    "\n",
    "def freqwords(x, terms): \n",
    "    allwords = ' '.join([text for text in x]) \n",
    "    allwords = allwords.split() \n",
    "    fdist = nltk.FreqDist(allwords) \n",
    "    wordsdf = pd.DataFrame({'word':list(fdist.keys()), 'count':list(fdist.values())}) \n",
    "\n",
    "\n",
    "    d = wordsdf.nlargest(columns=\"count\", n = terms) \n",
    "\n",
    "    # visualize words and frequencies\n",
    "    plt.figure(figsize=(10,7))\n",
    "    sns.set_theme(style=\"darkgrid\")\n",
    "    \n",
    "    ax = sns.barplot(data=d, x= \"count\", y = \"word\") \n",
    "    ax.set(ylabel = 'Word') \n",
    "    plt.show()\n",
    "    #plt.title(\"\")\n",
    "\n",
    "    \n",
    "# print 25 most frequent words \n",
    "freqwords(data['review'], 25)"
   ]
  },
  {
   "cell_type": "code",
   "execution_count": 205,
   "metadata": {},
   "outputs": [],
   "source": [
    "#Removing stop words from the column \"review\".\n",
    "\n",
    "from nltk.corpus import stopwords\n",
    "stop_words = set(stopwords.words('english'))\n",
    "\n",
    "# function to remove stopwords\n",
    "def removestopwords(text):\n",
    "    no_stopword_text = [w for w in text.split() if not w in stop_words]\n",
    "    return ' '.join(no_stopword_text)\n",
    "\n",
    "data['review'] = data['review'].apply(lambda x: removestopwords(x))"
   ]
  },
  {
   "cell_type": "code",
   "execution_count": 206,
   "metadata": {},
   "outputs": [
    {
     "name": "stdout",
     "output_type": "stream",
     "text": [
      "Snapshot of data['review']\n",
      "\n",
      "\n"
     ]
    },
    {
     "data": {
      "text/plain": [
       "0       plot two teen couples go church party drink dr...\n",
       "1       happy bastards quick movie review damn k bug g...\n",
       "2       movies like make jaded movie viewer thankful i...\n",
       "3       quest camelot warner bros first feature length...\n",
       "4       synopsis mentally unstable man undergoing psyc...\n",
       "                              ...                        \n",
       "1995    wow movie everything movie funny dramatic inte...\n",
       "1996    richard gere commanding actor hes always great...\n",
       "1997    glory starring matthew broderick denzel washin...\n",
       "1998    steven spielbergs second epic film world war i...\n",
       "1999    truman true man burbank perfect name jim carre...\n",
       "Name: review, Length: 2000, dtype: object"
      ]
     },
     "execution_count": 206,
     "metadata": {},
     "output_type": "execute_result"
    }
   ],
   "source": [
    "#Displaying \"review\" after removing stop words\n",
    "\n",
    "print(\"Snapshot of data['review']\\n\\n\")\n",
    "\n",
    "data['review']"
   ]
  },
  {
   "cell_type": "code",
   "execution_count": 207,
   "metadata": {},
   "outputs": [
    {
     "name": "stderr",
     "output_type": "stream",
     "text": [
      "[nltk_data] Downloading package wordnet to\n",
      "[nltk_data]     /Users/sganguly/nltk_data...\n",
      "[nltk_data]   Package wordnet is already up-to-date!\n"
     ]
    }
   ],
   "source": [
    "#Lemmatization on 'review'\n",
    "nltk.download('wordnet')\n",
    "from nltk.stem import WordNetLemmatizer\n",
    "\n",
    "lemma=WordNetLemmatizer()\n",
    "\n",
    "def lematizing(sentence):\n",
    "    stemSentence = \"\"\n",
    "    for word in sentence.split():\n",
    "        stem = lemma.lemmatize(word)\n",
    "        stemSentence += stem\n",
    "        stemSentence += \" \"\n",
    "    stemSentence = stemSentence.strip()\n",
    "    return stemSentence\n",
    "\n",
    "\n",
    "data['review'] = data['review'].apply(lambda x: lematizing(x))"
   ]
  },
  {
   "cell_type": "code",
   "execution_count": 208,
   "metadata": {},
   "outputs": [
    {
     "name": "stdout",
     "output_type": "stream",
     "text": [
      "Snapshot of data['review']\n",
      "\n",
      "\n"
     ]
    },
    {
     "data": {
      "text/plain": [
       "0       plot two teen couple go church party drink dri...\n",
       "1       happy bastard quick movie review damn k bug go...\n",
       "2       movie like make jaded movie viewer thankful in...\n",
       "3       quest camelot warner bros first feature length...\n",
       "4       synopsis mentally unstable man undergoing psyc...\n",
       "                              ...                        \n",
       "1995    wow movie everything movie funny dramatic inte...\n",
       "1996    richard gere commanding actor he always great ...\n",
       "1997    glory starring matthew broderick denzel washin...\n",
       "1998    steven spielberg second epic film world war ii...\n",
       "1999    truman true man burbank perfect name jim carre...\n",
       "Name: review, Length: 2000, dtype: object"
      ]
     },
     "execution_count": 208,
     "metadata": {},
     "output_type": "execute_result"
    }
   ],
   "source": [
    "#Displaying \"review\" after Lemmmatization\n",
    "\n",
    "print(\"Snapshot of data['review']\\n\\n\")\n",
    "\n",
    "data['review']"
   ]
  },
  {
   "cell_type": "code",
   "execution_count": 209,
   "metadata": {},
   "outputs": [],
   "source": [
    "#Stemming on 'review'\n",
    "\n",
    "from nltk.stem import PorterStemmer\n",
    "stemmer = PorterStemmer()\n",
    "def stemming(sentence):\n",
    "    stemSentence = \"\"\n",
    "    for word in sentence.split():\n",
    "        stem = stemmer.stem(word)\n",
    "        stemSentence += stem\n",
    "        stemSentence += \" \"\n",
    "    stemSentence = stemSentence.strip()\n",
    "    return stemSentence\n",
    "\n",
    "\n",
    "data['review'] = data['review'].apply(lambda x: stemming(x))"
   ]
  },
  {
   "cell_type": "code",
   "execution_count": 210,
   "metadata": {},
   "outputs": [
    {
     "name": "stdout",
     "output_type": "stream",
     "text": [
      "Snapshot of data['summary']\n",
      "\n",
      "\n"
     ]
    },
    {
     "data": {
      "text/plain": [
       "0       plot two teen coupl go church parti drink driv...\n",
       "1       happi bastard quick movi review damn k bug got...\n",
       "2       movi like make jade movi viewer thank invent t...\n",
       "3       quest camelot warner bro first featur length f...\n",
       "4       synopsi mental unstabl man undergo psychothera...\n",
       "                              ...                        \n",
       "1995    wow movi everyth movi funni dramat interest we...\n",
       "1996    richard gere command actor he alway great film...\n",
       "1997    glori star matthew broderick denzel washington...\n",
       "1998    steven spielberg second epic film world war ii...\n",
       "1999    truman true man burbank perfect name jim carre...\n",
       "Name: review, Length: 2000, dtype: object"
      ]
     },
     "execution_count": 210,
     "metadata": {},
     "output_type": "execute_result"
    }
   ],
   "source": [
    "#Displaying \"review\" after Stemming\n",
    "\n",
    "print(\"Snapshot of data['summary']\\n\\n\")\n",
    "\n",
    "data['review']"
   ]
  },
  {
   "cell_type": "code",
   "execution_count": 211,
   "metadata": {},
   "outputs": [
    {
     "name": "stdout",
     "output_type": "stream",
     "text": [
      "Graph to visualize the words and frequency in data's review.\n",
      "\n",
      "\n"
     ]
    },
    {
     "data": {
      "image/png": "[encoded data removed]",
      "text/plain": [
       "<Figure size 720x504 with 1 Axes>"
      ]
     },
     "metadata": {},
     "output_type": "display_data"
    }
   ],
   "source": [
    "#Function to visualize the words and frequency in data's review.\n",
    "\n",
    "print(\"Graph to visualize the words and frequency in data's review.\\n\\n\")\n",
    "# print 25 most frequent words \n",
    "freqwords(data['review'], 25)"
   ]
  },
  {
   "cell_type": "code",
   "execution_count": 212,
   "metadata": {},
   "outputs": [],
   "source": [
    "#Splitting our dataset into training and testing sets\n",
    "docs_train, docs_test, y_train, y_test = train_test_split(data['review'].tolist(), data['sentiment'].tolist(), test_size=0.25, random_state=51) \n"
   ]
  },
  {
   "cell_type": "code",
   "execution_count": 213,
   "metadata": {},
   "outputs": [
    {
     "data": {
      "text/html": [
       "<div>\n",
       "<style scoped>\n",
       "    .dataframe tbody tr th:only-of-type {\n",
       "        vertical-align: middle;\n",
       "    }\n",
       "\n",
       "    .dataframe tbody tr th {\n",
       "        vertical-align: top;\n",
       "    }\n",
       "\n",
       "    .dataframe thead th {\n",
       "        text-align: right;\n",
       "    }\n",
       "</style>\n",
       "<table border=\"1\" class=\"dataframe\">\n",
       "  <thead>\n",
       "    <tr style=\"text-align: right;\">\n",
       "      <th></th>\n",
       "      <th>review</th>\n",
       "      <th>sentiment</th>\n",
       "    </tr>\n",
       "  </thead>\n",
       "  <tbody>\n",
       "    <tr>\n",
       "      <th>0</th>\n",
       "      <td>well ill damn excel surpris confus campi far i...</td>\n",
       "      <td>1</td>\n",
       "    </tr>\n",
       "    <tr>\n",
       "      <th>1</th>\n",
       "      <td>gere willi poitier chase around world jackal f...</td>\n",
       "      <td>1</td>\n",
       "    </tr>\n",
       "    <tr>\n",
       "      <th>2</th>\n",
       "      <td>well guess time year one time year movi crafto...</td>\n",
       "      <td>0</td>\n",
       "    </tr>\n",
       "  </tbody>\n",
       "</table>\n",
       "</div>"
      ],
      "text/plain": [
       "                                              review sentiment\n",
       "0  well ill damn excel surpris confus campi far i...         1\n",
       "1  gere willi poitier chase around world jackal f...         1\n",
       "2  well guess time year one time year movi crafto...         0"
      ]
     },
     "execution_count": 213,
     "metadata": {},
     "output_type": "execute_result"
    }
   ],
   "source": [
    "#Creating a dataset out of our training set for data exploration\n",
    "train_df = pd.DataFrame([docs_train,y_train]).T\n",
    "\n",
    "#columns={'oldName1': 'newName1', 'oldName2': 'newName2'}\n",
    "train_df.rename(columns={0: 'review', 1: 'sentiment'}, inplace=True)\n",
    "#Looking into top 3 records of train_df\n",
    "train_df.head(3)"
   ]
  },
  {
   "cell_type": "code",
   "execution_count": 214,
   "metadata": {},
   "outputs": [
    {
     "data": {
      "image/png": "[encoded data removed]",
      "text/plain": [
       "<Figure size 720x432 with 1 Axes>"
      ]
     },
     "metadata": {},
     "output_type": "display_data"
    }
   ],
   "source": [
    "#Plotting the count plot of the different classes of reviews present\n",
    "\n",
    "plt.figure(figsize=(10,6))\n",
    "sns.set_theme(style=\"darkgrid\")\n",
    "sns.countplot(x=train_df.sentiment)\n",
    "plt.title(\"Countplot of classes of sentiments behind movie's review\")\n",
    "plt.show()"
   ]
  },
  {
   "cell_type": "code",
   "execution_count": 215,
   "metadata": {},
   "outputs": [],
   "source": [
    "#Creating a new feature 'length' which is the length of each movie review\n",
    "train_df['length']=train_df['review'].str.len()"
   ]
  },
  {
   "cell_type": "code",
   "execution_count": 216,
   "metadata": {},
   "outputs": [
    {
     "data": {
      "text/html": [
       "<div>\n",
       "<style scoped>\n",
       "    .dataframe tbody tr th:only-of-type {\n",
       "        vertical-align: middle;\n",
       "    }\n",
       "\n",
       "    .dataframe tbody tr th {\n",
       "        vertical-align: top;\n",
       "    }\n",
       "\n",
       "    .dataframe thead th {\n",
       "        text-align: right;\n",
       "    }\n",
       "</style>\n",
       "<table border=\"1\" class=\"dataframe\">\n",
       "  <thead>\n",
       "    <tr style=\"text-align: right;\">\n",
       "      <th></th>\n",
       "      <th>review</th>\n",
       "      <th>sentiment</th>\n",
       "      <th>length</th>\n",
       "    </tr>\n",
       "  </thead>\n",
       "  <tbody>\n",
       "    <tr>\n",
       "      <th>0</th>\n",
       "      <td>well ill damn excel surpris confus campi far i...</td>\n",
       "      <td>1</td>\n",
       "      <td>1872</td>\n",
       "    </tr>\n",
       "    <tr>\n",
       "      <th>1</th>\n",
       "      <td>gere willi poitier chase around world jackal f...</td>\n",
       "      <td>1</td>\n",
       "      <td>1940</td>\n",
       "    </tr>\n",
       "    <tr>\n",
       "      <th>2</th>\n",
       "      <td>well guess time year one time year movi crafto...</td>\n",
       "      <td>0</td>\n",
       "      <td>2904</td>\n",
       "    </tr>\n",
       "    <tr>\n",
       "      <th>3</th>\n",
       "      <td>filmcrit com colleagu norm schrager nail sessi...</td>\n",
       "      <td>1</td>\n",
       "      <td>2864</td>\n",
       "    </tr>\n",
       "    <tr>\n",
       "      <th>4</th>\n",
       "      <td>plot someth bunch kid go haunt hous play parod...</td>\n",
       "      <td>0</td>\n",
       "      <td>1816</td>\n",
       "    </tr>\n",
       "    <tr>\n",
       "      <th>5</th>\n",
       "      <td>american pie acknowledg cold hard fact movi do...</td>\n",
       "      <td>1</td>\n",
       "      <td>1805</td>\n",
       "    </tr>\n",
       "    <tr>\n",
       "      <th>6</th>\n",
       "      <td>note may consid portion follow text spoiler fo...</td>\n",
       "      <td>1</td>\n",
       "      <td>4359</td>\n",
       "    </tr>\n",
       "    <tr>\n",
       "      <th>7</th>\n",
       "      <td>high school comedi seem hot genr moment she va...</td>\n",
       "      <td>0</td>\n",
       "      <td>1889</td>\n",
       "    </tr>\n",
       "    <tr>\n",
       "      <th>8</th>\n",
       "      <td>stephen pleas post appropri mafia crime isnt f...</td>\n",
       "      <td>0</td>\n",
       "      <td>1338</td>\n",
       "    </tr>\n",
       "    <tr>\n",
       "      <th>9</th>\n",
       "      <td>sequel dont theyr suppos like toy stori far ma...</td>\n",
       "      <td>1</td>\n",
       "      <td>3278</td>\n",
       "    </tr>\n",
       "  </tbody>\n",
       "</table>\n",
       "</div>"
      ],
      "text/plain": [
       "                                              review sentiment  length\n",
       "0  well ill damn excel surpris confus campi far i...         1    1872\n",
       "1  gere willi poitier chase around world jackal f...         1    1940\n",
       "2  well guess time year one time year movi crafto...         0    2904\n",
       "3  filmcrit com colleagu norm schrager nail sessi...         1    2864\n",
       "4  plot someth bunch kid go haunt hous play parod...         0    1816\n",
       "5  american pie acknowledg cold hard fact movi do...         1    1805\n",
       "6  note may consid portion follow text spoiler fo...         1    4359\n",
       "7  high school comedi seem hot genr moment she va...         0    1889\n",
       "8  stephen pleas post appropri mafia crime isnt f...         0    1338\n",
       "9  sequel dont theyr suppos like toy stori far ma...         1    3278"
      ]
     },
     "execution_count": 216,
     "metadata": {},
     "output_type": "execute_result"
    }
   ],
   "source": [
    "#Peeking into the training dataset\n",
    "train_df.head(10)"
   ]
  },
  {
   "cell_type": "code",
   "execution_count": 217,
   "metadata": {},
   "outputs": [
    {
     "data": {
      "text/plain": [
       "<Figure size 720x432 with 0 Axes>"
      ]
     },
     "metadata": {},
     "output_type": "display_data"
    },
    {
     "data": {
      "image/png": "[encoded data removed]",
      "text/plain": [
       "<Figure size 432x288 with 1 Axes>"
      ]
     },
     "metadata": {},
     "output_type": "display_data"
    }
   ],
   "source": [
    "#Plotting the histogram of the length of the review each movie received\n",
    "\n",
    "plt.figure(figsize=(10,6))\n",
    "sns.set_theme(style=\"darkgrid\")\n",
    "train_df.hist(column='length',bins=100)\n",
    "plt.title('Histogram of the length of review each movie recieved')\n",
    "plt.xlabel('length of ratings')\n",
    "plt.ylabel('Number of movies')\n",
    "plt.show()"
   ]
  },
  {
   "cell_type": "code",
   "execution_count": 218,
   "metadata": {},
   "outputs": [],
   "source": [
    "# Building a pipeline for the the sentiment cassification\n",
    "pipeline = Pipeline([('vect', TfidfVectorizer(min_df=3, max_df=0.95)),('clf', LinearSVC(C=10000,max_iter=5000))])"
   ]
  },
  {
   "cell_type": "code",
   "execution_count": 219,
   "metadata": {},
   "outputs": [],
   "source": [
    "#Defining the n_gram parameter\n",
    "parameters = {'vect__ngram_range': [(1, 1), (1, 2)]}"
   ]
  },
  {
   "cell_type": "code",
   "execution_count": null,
   "metadata": {},
   "outputs": [
    {
     "data": {
      "text/plain": [
       "GridSearchCV(estimator=Pipeline(steps=[('vect',\n",
       "                                        TfidfVectorizer(max_df=0.95, min_df=3)),\n",
       "                                       ('clf',\n",
       "                                        LinearSVC(C=10000, max_iter=5000))]),\n",
       "             n_jobs=-10, param_grid={'vect__ngram_range': [(1, 1), (1, 2)]})"
      ]
     },
     "execution_count": 220,
     "metadata": {},
     "output_type": "execute_result"
    }
   ],
   "source": [
    "grid_search = GridSearchCV(pipeline, parameters, n_jobs=-10)\n",
    "grid_search.fit(docs_train, y_train)"
   ]
  },
  {
   "cell_type": "code",
   "execution_count": null,
   "metadata": {},
   "outputs": [
    {
     "name": "stdout",
     "output_type": "stream",
     "text": [
      "0 params - {'vect__ngram_range': (1, 1)}; mean - 0.81; std - 0.02\n",
      "1 params - {'vect__ngram_range': (1, 2)}; mean - 0.82; std - 0.02\n"
     ]
    }
   ],
   "source": [
    "n_candidates = len(grid_search.cv_results_['params'])\n",
    "for i in range(n_candidates):\n",
    "    print(i, 'params - %s; mean - %0.2f; std - %0.2f'% (grid_search.cv_results_['params'][i],grid_search.cv_results_['mean_test_score'][i],grid_search.cv_results_['std_test_score'][i]))"
   ]
  },
  {
   "cell_type": "code",
   "execution_count": null,
   "metadata": {},
   "outputs": [],
   "source": [
    "#Predicting the test values\n",
    "y_predicted = grid_search.predict(docs_test)"
   ]
  },
  {
   "cell_type": "code",
   "execution_count": null,
   "metadata": {},
   "outputs": [
    {
     "name": "stdout",
     "output_type": "stream",
     "text": [
      "              precision    recall  f1-score   support\n",
      "\n",
      "         neg       0.92      0.86      0.89       255\n",
      "         pos       0.87      0.92      0.89       245\n",
      "\n",
      "    accuracy                           0.89       500\n",
      "   macro avg       0.89      0.89      0.89       500\n",
      "weighted avg       0.89      0.89      0.89       500\n",
      "\n"
     ]
    }
   ],
   "source": [
    "#Printing the classification report\n",
    "print(metrics.classification_report(y_test, y_predicted,target_names=dataset.target_names))"
   ]
  },
  {
   "cell_type": "code",
   "execution_count": null,
   "metadata": {},
   "outputs": [
    {
     "data": {
      "image/png": "[encoded data removed]",
      "text/plain": [
       "<Figure size 504x504 with 1 Axes>"
      ]
     },
     "metadata": {},
     "output_type": "display_data"
    }
   ],
   "source": [
    "#Show the confusion matrix\n",
    "cm = metrics.confusion_matrix(y_test, y_predicted)\n",
    "plt.figure(figsize=(7, 7))\n",
    "sns.set(font_scale=1.7)\n",
    "sns.heatmap(cm, annot=True, cbar=False, fmt='.0f')\n",
    "sns.set(font_scale=1)\n",
    "plt.title(\"Confusion matrix\")\n",
    "plt.show()"
   ]
  },
  {
   "cell_type": "code",
   "execution_count": null,
   "metadata": {},
   "outputs": [
    {
     "name": "stdout",
     "output_type": "stream",
     "text": [
      "The accuarcy score is:  89.2 %\n",
      "The F1 score is:  89.32806324110672 %\n"
     ]
    }
   ],
   "source": [
    "#Printing the accuracy score and F1 score\n",
    "print(\"The accuarcy score is: \",metrics.accuracy_score(y_test, y_predicted)*100,\"%\")\n",
    "print(\"The F1 score is: \",metrics.f1_score(y_test, y_predicted)*100,\"%\")"
   ]
  },
  {
   "cell_type": "markdown",
   "metadata": {
    "tags": []
   },
   "source": [
    "## Problem 2 (20 points): Explore the Scikit-learn TfidfVectorizer Class\n",
    "\n",
    "**Read the documentation for the TfidfVectorizer class at https://scikit-learn.org/stable/modules/generated/sklearn.feature_extraction.text.TfidfVectorizer.html.** \n",
    "* Define the term frequency–inverse document frequency (TF-IDF) statistic (https://en.wikipedia.org/wiki/Tf%E2%80%93idf) will likely help.\n",
    "* Run the TfidfVectorizer class on the training data above (docs_train).\n",
    "* Explore the min_df and max_df parameters of TfidfVectorizer. What do they mean? How do they change the features you get?\n",
    "* Explore the ngram_range parameter of TfidfVectorizer. What does it mean? How does it change the features you get? (Note, large values  of ngram_range may take a long time to run!)"
   ]
  },
  {
   "cell_type": "markdown",
   "metadata": {},
   "source": [
    "##### Explore the min_df and max_df parameters of TfidfVectorizer. What do they mean? How do they change the features you get?"
   ]
  },
  {
   "cell_type": "code",
   "execution_count": 226,
   "metadata": {},
   "outputs": [],
   "source": [
    "#Exploring the min_df parameter of TfidfVectorizer\n",
    "il=[]\n",
    "al=[]\n",
    "for i in range(0,20):\n",
    "    pipeline = Pipeline([('vect', TfidfVectorizer(min_df=i, max_df=1000)),('clf', LinearSVC(C=10000,max_iter=5000))])\n",
    "\n",
    "    parameters = {'vect__ngram_range': [(1, 1), (1, 2)],}\n",
    "    grid_search = GridSearchCV(pipeline, parameters, n_jobs=-10)\n",
    "    grid_search.fit(docs_train, y_train)\n",
    "\n",
    "    n_candidates = len(grid_search.cv_results_['params'])\n",
    "    y_predicted = grid_search.predict(docs_test)\n",
    "    acc=metrics.accuracy_score(y_test, y_predicted)\n",
    "    #print(\"For min_df: \",i,\" accuracy: \",acc)\n",
    "    il.append(i)\n",
    "    al.append(acc)\n",
    "    "
   ]
  },
  {
   "cell_type": "code",
   "execution_count": 227,
   "metadata": {},
   "outputs": [
    {
     "data": {
      "text/html": [
       "<div>\n",
       "<style scoped>\n",
       "    .dataframe tbody tr th:only-of-type {\n",
       "        vertical-align: middle;\n",
       "    }\n",
       "\n",
       "    .dataframe tbody tr th {\n",
       "        vertical-align: top;\n",
       "    }\n",
       "\n",
       "    .dataframe thead th {\n",
       "        text-align: right;\n",
       "    }\n",
       "</style>\n",
       "<table border=\"1\" class=\"dataframe\">\n",
       "  <thead>\n",
       "    <tr style=\"text-align: right;\">\n",
       "      <th></th>\n",
       "      <th>min_df value</th>\n",
       "      <th>accuracy score</th>\n",
       "    </tr>\n",
       "  </thead>\n",
       "  <tbody>\n",
       "    <tr>\n",
       "      <th>0</th>\n",
       "      <td>0</td>\n",
       "      <td>0.874</td>\n",
       "    </tr>\n",
       "    <tr>\n",
       "      <th>1</th>\n",
       "      <td>1</td>\n",
       "      <td>0.874</td>\n",
       "    </tr>\n",
       "    <tr>\n",
       "      <th>2</th>\n",
       "      <td>2</td>\n",
       "      <td>0.890</td>\n",
       "    </tr>\n",
       "    <tr>\n",
       "      <th>3</th>\n",
       "      <td>3</td>\n",
       "      <td>0.884</td>\n",
       "    </tr>\n",
       "    <tr>\n",
       "      <th>4</th>\n",
       "      <td>4</td>\n",
       "      <td>0.878</td>\n",
       "    </tr>\n",
       "  </tbody>\n",
       "</table>\n",
       "</div>"
      ],
      "text/plain": [
       "   min_df value  accuracy score\n",
       "0             0           0.874\n",
       "1             1           0.874\n",
       "2             2           0.890\n",
       "3             3           0.884\n",
       "4             4           0.878"
      ]
     },
     "execution_count": 227,
     "metadata": {},
     "output_type": "execute_result"
    }
   ],
   "source": [
    "#Creating a new dataframe [min_df value || accuracy score] \n",
    "#Purpose is to plot a graph of min_df value vs accuracy score\n",
    "temp = pd.DataFrame([il,al]).T\n",
    "temp.columns=['min_df value','accuracy score']\n",
    "\n",
    "\n",
    "temp[\"min_df value\"] = temp[\"min_df value\"].astype(int)\n",
    "#Viewing the first 5 records of temp\n",
    "temp.head(5)"
   ]
  },
  {
   "cell_type": "code",
   "execution_count": 228,
   "metadata": {},
   "outputs": [
    {
     "name": "stdout",
     "output_type": "stream",
     "text": [
      "Plotting a line plot of min_df value vs accuracy score\n"
     ]
    },
    {
     "data": {
      "image/png": "[encoded data removed]",
      "text/plain": [
       "<Figure size 720x432 with 1 Axes>"
      ]
     },
     "metadata": {},
     "output_type": "display_data"
    }
   ],
   "source": [
    "#Plotting a line plot of min_df value vs accuracy score\n",
    "print(\"Plotting a line plot of min_df value vs accuracy score\")\n",
    "plt.figure(figsize=(10,6))\n",
    "sns.set_theme(style=\"darkgrid\")\n",
    "sns.lineplot(data=temp, x=\"min_df value\", y=\"accuracy score\")\n",
    "plt.show()"
   ]
  },
  {
   "cell_type": "code",
   "execution_count": 229,
   "metadata": {},
   "outputs": [
    {
     "data": {
      "text/html": [
       "<div>\n",
       "<style scoped>\n",
       "    .dataframe tbody tr th:only-of-type {\n",
       "        vertical-align: middle;\n",
       "    }\n",
       "\n",
       "    .dataframe tbody tr th {\n",
       "        vertical-align: top;\n",
       "    }\n",
       "\n",
       "    .dataframe thead th {\n",
       "        text-align: right;\n",
       "    }\n",
       "</style>\n",
       "<table border=\"1\" class=\"dataframe\">\n",
       "  <thead>\n",
       "    <tr style=\"text-align: right;\">\n",
       "      <th></th>\n",
       "      <th>min_df value</th>\n",
       "      <th>accuracy score</th>\n",
       "    </tr>\n",
       "  </thead>\n",
       "  <tbody>\n",
       "    <tr>\n",
       "      <th>2</th>\n",
       "      <td>2</td>\n",
       "      <td>0.89</td>\n",
       "    </tr>\n",
       "  </tbody>\n",
       "</table>\n",
       "</div>"
      ],
      "text/plain": [
       "   min_df value  accuracy score\n",
       "2             2            0.89"
      ]
     },
     "execution_count": 229,
     "metadata": {},
     "output_type": "execute_result"
    }
   ],
   "source": [
    "#Finding the max value of accuarcy for a given min_df value\n",
    "temp[temp['accuracy score']==temp['accuracy score']. max()]"
   ]
  },
  {
   "cell_type": "code",
   "execution_count": 230,
   "metadata": {},
   "outputs": [],
   "source": [
    "#Exploring the max_df parameter of TfidfVectorizer\n",
    "il=[]\n",
    "al=[]\n",
    "for i in range(250,1000,50):\n",
    "    pipeline = Pipeline([('vect', TfidfVectorizer(min_df=2, max_df=i)),('clf', LinearSVC(C=10000,max_iter=5000))])\n",
    "\n",
    "    parameters = {'vect__ngram_range': [(1, 1), (1, 2)],}\n",
    "    grid_search = GridSearchCV(pipeline, parameters, n_jobs=-20)\n",
    "    grid_search.fit(docs_train, y_train)\n",
    "\n",
    "    n_candidates = len(grid_search.cv_results_['params'])\n",
    "    y_predicted = grid_search.predict(docs_test)\n",
    "    \n",
    "    acc=metrics.accuracy_score(y_test, y_predicted)\n",
    "    #print(\"For max_df: \",i,\" accuracy: \",acc)\n",
    "    il.append(i)\n",
    "    al.append(acc)"
   ]
  },
  {
   "cell_type": "code",
   "execution_count": 231,
   "metadata": {},
   "outputs": [
    {
     "data": {
      "text/html": [
       "<div>\n",
       "<style scoped>\n",
       "    .dataframe tbody tr th:only-of-type {\n",
       "        vertical-align: middle;\n",
       "    }\n",
       "\n",
       "    .dataframe tbody tr th {\n",
       "        vertical-align: top;\n",
       "    }\n",
       "\n",
       "    .dataframe thead th {\n",
       "        text-align: right;\n",
       "    }\n",
       "</style>\n",
       "<table border=\"1\" class=\"dataframe\">\n",
       "  <thead>\n",
       "    <tr style=\"text-align: right;\">\n",
       "      <th></th>\n",
       "      <th>max_df value</th>\n",
       "      <th>accuracy score</th>\n",
       "    </tr>\n",
       "  </thead>\n",
       "  <tbody>\n",
       "    <tr>\n",
       "      <th>0</th>\n",
       "      <td>250</td>\n",
       "      <td>0.864</td>\n",
       "    </tr>\n",
       "    <tr>\n",
       "      <th>1</th>\n",
       "      <td>300</td>\n",
       "      <td>0.874</td>\n",
       "    </tr>\n",
       "    <tr>\n",
       "      <th>2</th>\n",
       "      <td>350</td>\n",
       "      <td>0.872</td>\n",
       "    </tr>\n",
       "    <tr>\n",
       "      <th>3</th>\n",
       "      <td>400</td>\n",
       "      <td>0.884</td>\n",
       "    </tr>\n",
       "    <tr>\n",
       "      <th>4</th>\n",
       "      <td>450</td>\n",
       "      <td>0.886</td>\n",
       "    </tr>\n",
       "  </tbody>\n",
       "</table>\n",
       "</div>"
      ],
      "text/plain": [
       "   max_df value  accuracy score\n",
       "0           250           0.864\n",
       "1           300           0.874\n",
       "2           350           0.872\n",
       "3           400           0.884\n",
       "4           450           0.886"
      ]
     },
     "execution_count": 231,
     "metadata": {},
     "output_type": "execute_result"
    }
   ],
   "source": [
    "#Creating a new dataframe [max_df value || accuracy score] \n",
    "#Purpose is to plot a graph of max_df value vs accuracy score\n",
    "temp = pd.DataFrame([il,al]).T\n",
    "temp.columns=['max_df value','accuracy score']\n",
    "\n",
    "temp[\"max_df value\"] = temp[\"max_df value\"].astype(int)\n",
    "#viewing the first 5 records of temp\n",
    "temp.head(5)"
   ]
  },
  {
   "cell_type": "code",
   "execution_count": 232,
   "metadata": {},
   "outputs": [
    {
     "name": "stdout",
     "output_type": "stream",
     "text": [
      "Plotting a line plot of max_df value vs accuracy score\n"
     ]
    },
    {
     "data": {
      "image/png": "[encoded data removed]",
      "text/plain": [
       "<Figure size 720x432 with 1 Axes>"
      ]
     },
     "metadata": {},
     "output_type": "display_data"
    }
   ],
   "source": [
    "#Plotting a line plot of max_df value vs accuracy score\n",
    "print(\"Plotting a line plot of max_df value vs accuracy score\")\n",
    "plt.figure(figsize=(10,6))\n",
    "sns.set_theme(style=\"darkgrid\")\n",
    "sns.lineplot(data=temp, x=\"max_df value\", y=\"accuracy score\")\n",
    "plt.show()"
   ]
  },
  {
   "cell_type": "code",
   "execution_count": 233,
   "metadata": {},
   "outputs": [
    {
     "data": {
      "text/html": [
       "<div>\n",
       "<style scoped>\n",
       "    .dataframe tbody tr th:only-of-type {\n",
       "        vertical-align: middle;\n",
       "    }\n",
       "\n",
       "    .dataframe tbody tr th {\n",
       "        vertical-align: top;\n",
       "    }\n",
       "\n",
       "    .dataframe thead th {\n",
       "        text-align: right;\n",
       "    }\n",
       "</style>\n",
       "<table border=\"1\" class=\"dataframe\">\n",
       "  <thead>\n",
       "    <tr style=\"text-align: right;\">\n",
       "      <th></th>\n",
       "      <th>max_df value</th>\n",
       "      <th>accuracy score</th>\n",
       "    </tr>\n",
       "  </thead>\n",
       "  <tbody>\n",
       "    <tr>\n",
       "      <th>7</th>\n",
       "      <td>600</td>\n",
       "      <td>0.896</td>\n",
       "    </tr>\n",
       "  </tbody>\n",
       "</table>\n",
       "</div>"
      ],
      "text/plain": [
       "   max_df value  accuracy score\n",
       "7           600           0.896"
      ]
     },
     "execution_count": 233,
     "metadata": {},
     "output_type": "execute_result"
    }
   ],
   "source": [
    "#Finding the max value of accuarcy for a given min_df value\n",
    "temp[temp['accuracy score']==temp['accuracy score']. max()]"
   ]
  },
  {
   "cell_type": "markdown",
   "metadata": {},
   "source": [
    "Explore the ngram_range parameter of TfidfVectorizer. What does it mean? How does it change the features you get? (Note, large values of ngram_range may take a long time to run!)"
   ]
  },
  {
   "cell_type": "code",
   "execution_count": 234,
   "metadata": {},
   "outputs": [
    {
     "name": "stdout",
     "output_type": "stream",
     "text": [
      "0 params - {'vect__ngram_range': (1, 1)}; mean - 0.80; std - 0.02\n",
      "1 params - {'vect__ngram_range': (1, 2)}; mean - 0.82; std - 0.02\n",
      "2 params - {'vect__ngram_range': (1, 3)}; mean - 0.82; std - 0.02\n",
      "3 params - {'vect__ngram_range': (1, 4)}; mean - 0.82; std - 0.02\n",
      "4 params - {'vect__ngram_range': (1, 5)}; mean - 0.82; std - 0.02\n",
      "\n",
      "\n",
      "The best accuracy score by n-gram param is:  89.60000000000001 %\n"
     ]
    }
   ],
   "source": [
    "#Exploring the n_gram parameter\n",
    "\n",
    "pipeline = Pipeline([('vect', TfidfVectorizer(min_df=2, max_df=600)),('clf', LinearSVC(C=10000,max_iter=5000))])\n",
    "\n",
    "parameters = {'vect__ngram_range': [(1, 1),(1, 2),(1, 3),(1, 4),(1, 5)]}\n",
    "\n",
    "\n",
    "grid_search = GridSearchCV(pipeline, parameters, n_jobs=-10)\n",
    "grid_search.fit(docs_train, y_train)\n",
    "\n",
    "il=[]\n",
    "al=[]\n",
    "n_candidates = len(grid_search.cv_results_['params'])\n",
    "for i in range(n_candidates):\n",
    "    al.append(grid_search.cv_results_['mean_test_score'][i])\n",
    "    il.append(grid_search.cv_results_['params'][i])\n",
    "    print(i, 'params - %s; mean - %0.2f; std - %0.2f'% (grid_search.cv_results_['params'][i],grid_search.cv_results_['mean_test_score'][i],grid_search.cv_results_['std_test_score'][i]))\n",
    "\n",
    "y_predicted = grid_search.predict(docs_test)\n",
    "\n",
    "print(\"\\n\\nThe best accuracy score by n-gram param is: \",metrics.accuracy_score(y_test, y_predicted)*100,\"%\")"
   ]
  },
  {
   "cell_type": "code",
   "execution_count": 235,
   "metadata": {},
   "outputs": [
    {
     "data": {
      "text/html": [
       "<div>\n",
       "<style scoped>\n",
       "    .dataframe tbody tr th:only-of-type {\n",
       "        vertical-align: middle;\n",
       "    }\n",
       "\n",
       "    .dataframe tbody tr th {\n",
       "        vertical-align: top;\n",
       "    }\n",
       "\n",
       "    .dataframe thead th {\n",
       "        text-align: right;\n",
       "    }\n",
       "</style>\n",
       "<table border=\"1\" class=\"dataframe\">\n",
       "  <thead>\n",
       "    <tr style=\"text-align: right;\">\n",
       "      <th></th>\n",
       "      <th>n_gram</th>\n",
       "      <th>mean accuracy score</th>\n",
       "    </tr>\n",
       "  </thead>\n",
       "  <tbody>\n",
       "    <tr>\n",
       "      <th>0</th>\n",
       "      <td>{'vect__ngram_range': (1, 1)}</td>\n",
       "      <td>0.798</td>\n",
       "    </tr>\n",
       "    <tr>\n",
       "      <th>1</th>\n",
       "      <td>{'vect__ngram_range': (1, 2)}</td>\n",
       "      <td>0.819333</td>\n",
       "    </tr>\n",
       "    <tr>\n",
       "      <th>2</th>\n",
       "      <td>{'vect__ngram_range': (1, 3)}</td>\n",
       "      <td>0.821333</td>\n",
       "    </tr>\n",
       "    <tr>\n",
       "      <th>3</th>\n",
       "      <td>{'vect__ngram_range': (1, 4)}</td>\n",
       "      <td>0.820667</td>\n",
       "    </tr>\n",
       "    <tr>\n",
       "      <th>4</th>\n",
       "      <td>{'vect__ngram_range': (1, 5)}</td>\n",
       "      <td>0.821333</td>\n",
       "    </tr>\n",
       "  </tbody>\n",
       "</table>\n",
       "</div>"
      ],
      "text/plain": [
       "                          n_gram  mean accuracy score\n",
       "0  {'vect__ngram_range': (1, 1)}                0.798\n",
       "1  {'vect__ngram_range': (1, 2)}             0.819333\n",
       "2  {'vect__ngram_range': (1, 3)}             0.821333\n",
       "3  {'vect__ngram_range': (1, 4)}             0.820667\n",
       "4  {'vect__ngram_range': (1, 5)}             0.821333"
      ]
     },
     "execution_count": 235,
     "metadata": {},
     "output_type": "execute_result"
    }
   ],
   "source": [
    "#Creating a new dataframe [n_gram || accuracy score] \n",
    "\n",
    "temp = pd.DataFrame([il,al]).T\n",
    "temp.columns=['n_gram',' mean accuracy score']\n",
    "\n",
    "\n",
    "#viewing the first 5 records of temp\n",
    "temp.head(5)"
   ]
  },
  {
   "cell_type": "markdown",
   "metadata": {},
   "source": [
    "## Problem 3 (20 points): Machine Learning Algorithms"
   ]
  },
  {
   "cell_type": "markdown",
   "metadata": {},
   "source": [
    "* \"fit\" your TfidfVectorizer using docs_train\n",
    "    * Compute \"Xtrain\", a Tf-idf-weighted document-term matrix using the transform function on docs_train\n",
    "    * Compute \"Xtest\", a Tf-idf-weighted document-term matrix using the transform function on docs_test\n",
    "    * Note, be sure to use the same Tf-idf-weighted class (**\"fit\" using docs_train**) to transform **both** docs_test and docs_train"
   ]
  },
  {
   "cell_type": "code",
   "execution_count": 236,
   "metadata": {},
   "outputs": [],
   "source": [
    "#Performing tf-idf \n",
    "\n",
    "tfidf_vectorizer = TfidfVectorizer(min_df=2,max_df=600, ngram_range=(1,3))\n",
    "\n",
    "Xtrain = tfidf_vectorizer.fit_transform(docs_train)\n",
    "\n",
    "Xtest = tfidf_vectorizer.transform(docs_test)"
   ]
  },
  {
   "cell_type": "markdown",
   "metadata": {},
   "source": [
    "* Examine two classifiers provided by scikit-learn \n",
    "    * LinearSVC\n",
    "    * KNeighborsClassifier\n",
    "    * Try a number of different parameter settings for each and judge your performance using a confusion matrix (see Problem 1 for an example).\n",
    "* Does one classifier, or one set of parameters work better?\n",
    "    * Why do you think it might be working better?"
   ]
  },
  {
   "cell_type": "code",
   "execution_count": 237,
   "metadata": {},
   "outputs": [],
   "source": [
    "\n",
    "il=[]\n",
    "al=[]\n",
    "\n",
    "for i in range(5,100):\n",
    "    svc = LinearSVC(C=i,max_iter=10000).fit(Xtrain,y_train)\n",
    "\n",
    "    svpred=svc.predict(Xtest)\n",
    "\n",
    "    al.append(accuracy_score(y_test,svpred))\n",
    "    il.append(i)\n",
    "\n",
    "\n"
   ]
  },
  {
   "cell_type": "code",
   "execution_count": 238,
   "metadata": {},
   "outputs": [
    {
     "data": {
      "text/html": [
       "<div>\n",
       "<style scoped>\n",
       "    .dataframe tbody tr th:only-of-type {\n",
       "        vertical-align: middle;\n",
       "    }\n",
       "\n",
       "    .dataframe tbody tr th {\n",
       "        vertical-align: top;\n",
       "    }\n",
       "\n",
       "    .dataframe thead th {\n",
       "        text-align: right;\n",
       "    }\n",
       "</style>\n",
       "<table border=\"1\" class=\"dataframe\">\n",
       "  <thead>\n",
       "    <tr style=\"text-align: right;\">\n",
       "      <th></th>\n",
       "      <th>C value</th>\n",
       "      <th>accuracy score</th>\n",
       "    </tr>\n",
       "  </thead>\n",
       "  <tbody>\n",
       "    <tr>\n",
       "      <th>0</th>\n",
       "      <td>5</td>\n",
       "      <td>0.896</td>\n",
       "    </tr>\n",
       "    <tr>\n",
       "      <th>1</th>\n",
       "      <td>6</td>\n",
       "      <td>0.896</td>\n",
       "    </tr>\n",
       "    <tr>\n",
       "      <th>2</th>\n",
       "      <td>7</td>\n",
       "      <td>0.896</td>\n",
       "    </tr>\n",
       "    <tr>\n",
       "      <th>3</th>\n",
       "      <td>8</td>\n",
       "      <td>0.896</td>\n",
       "    </tr>\n",
       "    <tr>\n",
       "      <th>4</th>\n",
       "      <td>9</td>\n",
       "      <td>0.898</td>\n",
       "    </tr>\n",
       "  </tbody>\n",
       "</table>\n",
       "</div>"
      ],
      "text/plain": [
       "   C value  accuracy score\n",
       "0        5           0.896\n",
       "1        6           0.896\n",
       "2        7           0.896\n",
       "3        8           0.896\n",
       "4        9           0.898"
      ]
     },
     "execution_count": 238,
     "metadata": {},
     "output_type": "execute_result"
    }
   ],
   "source": [
    "#Creating a new dataframe [k value || accuracy score] \n",
    "#Purpose is to plot a graph of k value vs accuracy score\n",
    "temp = pd.DataFrame([il,al]).T\n",
    "temp.columns=['C value','accuracy score']\n",
    "\n",
    "temp[\"C value\"] = temp[\"C value\"].astype(int)\n",
    "#viewing the first 5 records of temp\n",
    "temp.head(5)"
   ]
  },
  {
   "cell_type": "code",
   "execution_count": 239,
   "metadata": {},
   "outputs": [
    {
     "name": "stdout",
     "output_type": "stream",
     "text": [
      "Plotting a line plot of C value vs accuracy score\n"
     ]
    },
    {
     "data": {
      "image/png": "[encoded data removed]",
      "text/plain": [
       "<Figure size 720x432 with 1 Axes>"
      ]
     },
     "metadata": {},
     "output_type": "display_data"
    }
   ],
   "source": [
    "#Plotting a line plot of max_df value vs accuracy score\n",
    "print(\"Plotting a line plot of C value vs accuracy score\")\n",
    "plt.figure(figsize=(10,6))\n",
    "sns.set_theme(style=\"darkgrid\")\n",
    "sns.lineplot(data=temp, x=\"C value\", y=\"accuracy score\")\n",
    "plt.show()"
   ]
  },
  {
   "cell_type": "code",
   "execution_count": 240,
   "metadata": {},
   "outputs": [
    {
     "data": {
      "text/html": [
       "<div>\n",
       "<style scoped>\n",
       "    .dataframe tbody tr th:only-of-type {\n",
       "        vertical-align: middle;\n",
       "    }\n",
       "\n",
       "    .dataframe tbody tr th {\n",
       "        vertical-align: top;\n",
       "    }\n",
       "\n",
       "    .dataframe thead th {\n",
       "        text-align: right;\n",
       "    }\n",
       "</style>\n",
       "<table border=\"1\" class=\"dataframe\">\n",
       "  <thead>\n",
       "    <tr style=\"text-align: right;\">\n",
       "      <th></th>\n",
       "      <th>C value</th>\n",
       "      <th>accuracy score</th>\n",
       "    </tr>\n",
       "  </thead>\n",
       "  <tbody>\n",
       "    <tr>\n",
       "      <th>4</th>\n",
       "      <td>9</td>\n",
       "      <td>0.898</td>\n",
       "    </tr>\n",
       "    <tr>\n",
       "      <th>5</th>\n",
       "      <td>10</td>\n",
       "      <td>0.898</td>\n",
       "    </tr>\n",
       "    <tr>\n",
       "      <th>6</th>\n",
       "      <td>11</td>\n",
       "      <td>0.898</td>\n",
       "    </tr>\n",
       "    <tr>\n",
       "      <th>7</th>\n",
       "      <td>12</td>\n",
       "      <td>0.898</td>\n",
       "    </tr>\n",
       "    <tr>\n",
       "      <th>8</th>\n",
       "      <td>13</td>\n",
       "      <td>0.898</td>\n",
       "    </tr>\n",
       "    <tr>\n",
       "      <th>...</th>\n",
       "      <td>...</td>\n",
       "      <td>...</td>\n",
       "    </tr>\n",
       "    <tr>\n",
       "      <th>90</th>\n",
       "      <td>95</td>\n",
       "      <td>0.898</td>\n",
       "    </tr>\n",
       "    <tr>\n",
       "      <th>91</th>\n",
       "      <td>96</td>\n",
       "      <td>0.898</td>\n",
       "    </tr>\n",
       "    <tr>\n",
       "      <th>92</th>\n",
       "      <td>97</td>\n",
       "      <td>0.898</td>\n",
       "    </tr>\n",
       "    <tr>\n",
       "      <th>93</th>\n",
       "      <td>98</td>\n",
       "      <td>0.898</td>\n",
       "    </tr>\n",
       "    <tr>\n",
       "      <th>94</th>\n",
       "      <td>99</td>\n",
       "      <td>0.898</td>\n",
       "    </tr>\n",
       "  </tbody>\n",
       "</table>\n",
       "<p>91 rows × 2 columns</p>\n",
       "</div>"
      ],
      "text/plain": [
       "    C value  accuracy score\n",
       "4         9           0.898\n",
       "5        10           0.898\n",
       "6        11           0.898\n",
       "7        12           0.898\n",
       "8        13           0.898\n",
       "..      ...             ...\n",
       "90       95           0.898\n",
       "91       96           0.898\n",
       "92       97           0.898\n",
       "93       98           0.898\n",
       "94       99           0.898\n",
       "\n",
       "[91 rows x 2 columns]"
      ]
     },
     "execution_count": 240,
     "metadata": {},
     "output_type": "execute_result"
    }
   ],
   "source": [
    "#Finding the max value of accuacy for a given C value\n",
    "temp[temp['accuracy score']==temp['accuracy score']. max()]"
   ]
  },
  {
   "cell_type": "code",
   "execution_count": 241,
   "metadata": {},
   "outputs": [
    {
     "name": "stdout",
     "output_type": "stream",
     "text": [
      "The accuarcy score is:  89.8 %\n",
      "The F1 score is:  89.72332015810277 %\n",
      "\n",
      "\n",
      "\n"
     ]
    },
    {
     "data": {
      "image/png": "[encoded data removed]",
      "text/plain": [
       "<Figure size 504x504 with 1 Axes>"
      ]
     },
     "metadata": {},
     "output_type": "display_data"
    }
   ],
   "source": [
    "svc = LinearSVC(C=9,max_iter=10000).fit(Xtrain,y_train)\n",
    "\n",
    "svpred=svc.predict(Xtest)\n",
    "\n",
    "from sklearn.metrics import accuracy_score \n",
    "from sklearn.metrics import classification_report \n",
    "  \n",
    "\n",
    "#Printing the accuracy score and F1 score\n",
    "print(\"The accuarcy score is: \",accuracy_score(y_test,svpred)*100,\"%\")\n",
    "print(\"The F1 score is: \",metrics.f1_score(y_test, y_predicted)*100,\"%\")\n",
    "\n",
    "print(\"\\n\\n\")\n",
    "#Show the confusion matrix\n",
    "cm = metrics.confusion_matrix(y_test,svpred)\n",
    "plt.figure(figsize=(7, 7))\n",
    "sns.set(font_scale=1.7)\n",
    "sns.heatmap(cm, annot=True, cbar=False, fmt='.0f')\n",
    "sns.set(font_scale=1)\n",
    "plt.title(\"Confusion matrix for LinearSVC\")\n",
    "plt.show()"
   ]
  },
  {
   "cell_type": "code",
   "execution_count": 242,
   "metadata": {},
   "outputs": [
    {
     "data": {
      "text/html": [
       "<div>\n",
       "<style scoped>\n",
       "    .dataframe tbody tr th:only-of-type {\n",
       "        vertical-align: middle;\n",
       "    }\n",
       "\n",
       "    .dataframe tbody tr th {\n",
       "        vertical-align: top;\n",
       "    }\n",
       "\n",
       "    .dataframe thead th {\n",
       "        text-align: right;\n",
       "    }\n",
       "</style>\n",
       "<table border=\"1\" class=\"dataframe\">\n",
       "  <thead>\n",
       "    <tr style=\"text-align: right;\">\n",
       "      <th></th>\n",
       "      <th>review</th>\n",
       "      <th>sentiment</th>\n",
       "    </tr>\n",
       "  </thead>\n",
       "  <tbody>\n",
       "    <tr>\n",
       "      <th>7</th>\n",
       "      <td>that exactli long movi felt werent even nine l...</td>\n",
       "      <td>0</td>\n",
       "    </tr>\n",
       "    <tr>\n",
       "      <th>15</th>\n",
       "      <td>john carpent make b movi alway halloween escap...</td>\n",
       "      <td>0</td>\n",
       "    </tr>\n",
       "    <tr>\n",
       "      <th>36</th>\n",
       "      <td>among multitud erot thriller releas earli woma...</td>\n",
       "      <td>0</td>\n",
       "    </tr>\n",
       "    <tr>\n",
       "      <th>40</th>\n",
       "      <td>lengthi lousi two word describ bore drama engl...</td>\n",
       "      <td>0</td>\n",
       "    </tr>\n",
       "    <tr>\n",
       "      <th>42</th>\n",
       "      <td>pseudo intellectu film pseudo intellectu world...</td>\n",
       "      <td>0</td>\n",
       "    </tr>\n",
       "  </tbody>\n",
       "</table>\n",
       "</div>"
      ],
      "text/plain": [
       "                                               review sentiment\n",
       "7   that exactli long movi felt werent even nine l...         0\n",
       "15  john carpent make b movi alway halloween escap...         0\n",
       "36  among multitud erot thriller releas earli woma...         0\n",
       "40  lengthi lousi two word describ bore drama engl...         0\n",
       "42  pseudo intellectu film pseudo intellectu world...         0"
      ]
     },
     "execution_count": 242,
     "metadata": {},
     "output_type": "execute_result"
    }
   ],
   "source": [
    "#Finding wrong predictions\n",
    "\n",
    "indices_svc = [i for i in range(len(y_test)) if y_test[i] != svpred[i]]\n",
    "\n",
    "#temp=pd.DataFrame(docs_test.tolist())\n",
    "wrong_predictions = data.iloc[indices_svc,:]\n",
    "\n",
    "wrong_predictions.head(5)"
   ]
  },
  {
   "cell_type": "code",
   "execution_count": 243,
   "metadata": {},
   "outputs": [],
   "source": [
    "il=[]\n",
    "al=[]\n",
    "for i in range(100,1100,25):\n",
    "    k = KNeighborsClassifier(weights='distance',n_neighbors=i).fit(Xtrain,y_train)\n",
    "\n",
    "    k_pred=k.predict(Xtest)\n",
    "\n",
    "    al.append(accuracy_score(y_test,k_pred))\n",
    "    il.append(i)\n",
    "\n",
    "\n"
   ]
  },
  {
   "cell_type": "code",
   "execution_count": 244,
   "metadata": {},
   "outputs": [
    {
     "data": {
      "text/html": [
       "<div>\n",
       "<style scoped>\n",
       "    .dataframe tbody tr th:only-of-type {\n",
       "        vertical-align: middle;\n",
       "    }\n",
       "\n",
       "    .dataframe tbody tr th {\n",
       "        vertical-align: top;\n",
       "    }\n",
       "\n",
       "    .dataframe thead th {\n",
       "        text-align: right;\n",
       "    }\n",
       "</style>\n",
       "<table border=\"1\" class=\"dataframe\">\n",
       "  <thead>\n",
       "    <tr style=\"text-align: right;\">\n",
       "      <th></th>\n",
       "      <th>k value</th>\n",
       "      <th>accuracy score</th>\n",
       "    </tr>\n",
       "  </thead>\n",
       "  <tbody>\n",
       "    <tr>\n",
       "      <th>0</th>\n",
       "      <td>100</td>\n",
       "      <td>0.784</td>\n",
       "    </tr>\n",
       "    <tr>\n",
       "      <th>1</th>\n",
       "      <td>125</td>\n",
       "      <td>0.792</td>\n",
       "    </tr>\n",
       "    <tr>\n",
       "      <th>2</th>\n",
       "      <td>150</td>\n",
       "      <td>0.796</td>\n",
       "    </tr>\n",
       "    <tr>\n",
       "      <th>3</th>\n",
       "      <td>175</td>\n",
       "      <td>0.786</td>\n",
       "    </tr>\n",
       "    <tr>\n",
       "      <th>4</th>\n",
       "      <td>200</td>\n",
       "      <td>0.808</td>\n",
       "    </tr>\n",
       "  </tbody>\n",
       "</table>\n",
       "</div>"
      ],
      "text/plain": [
       "   k value  accuracy score\n",
       "0      100           0.784\n",
       "1      125           0.792\n",
       "2      150           0.796\n",
       "3      175           0.786\n",
       "4      200           0.808"
      ]
     },
     "execution_count": 244,
     "metadata": {},
     "output_type": "execute_result"
    }
   ],
   "source": [
    "#Creating a new dataframe [k value || accuracy score] \n",
    "#Purpose is to plot a graph of k value vs accuracy score\n",
    "temp = pd.DataFrame([il,al]).T\n",
    "temp.columns=['k value','accuracy score']\n",
    "\n",
    "temp[\"k value\"] = temp[\"k value\"].astype(int)\n",
    "#viewing the first 5 records of temp\n",
    "temp.head(5)"
   ]
  },
  {
   "cell_type": "code",
   "execution_count": 245,
   "metadata": {},
   "outputs": [
    {
     "name": "stdout",
     "output_type": "stream",
     "text": [
      "Plotting a line plot of k value vs accuracy score\n"
     ]
    },
    {
     "data": {
      "image/png": "[encoded data removed]",
      "text/plain": [
       "<Figure size 720x432 with 1 Axes>"
      ]
     },
     "metadata": {},
     "output_type": "display_data"
    }
   ],
   "source": [
    "#Plotting a line plot of k value vs accuracy score\n",
    "print(\"Plotting a line plot of k value vs accuracy score\")\n",
    "plt.figure(figsize=(10,6))\n",
    "sns.set_theme(style=\"darkgrid\")\n",
    "sns.lineplot(data=temp, x=\"k value\", y=\"accuracy score\")\n",
    "plt.show()"
   ]
  },
  {
   "cell_type": "code",
   "execution_count": 246,
   "metadata": {},
   "outputs": [
    {
     "data": {
      "text/html": [
       "<div>\n",
       "<style scoped>\n",
       "    .dataframe tbody tr th:only-of-type {\n",
       "        vertical-align: middle;\n",
       "    }\n",
       "\n",
       "    .dataframe tbody tr th {\n",
       "        vertical-align: top;\n",
       "    }\n",
       "\n",
       "    .dataframe thead th {\n",
       "        text-align: right;\n",
       "    }\n",
       "</style>\n",
       "<table border=\"1\" class=\"dataframe\">\n",
       "  <thead>\n",
       "    <tr style=\"text-align: right;\">\n",
       "      <th></th>\n",
       "      <th>k value</th>\n",
       "      <th>accuracy score</th>\n",
       "    </tr>\n",
       "  </thead>\n",
       "  <tbody>\n",
       "    <tr>\n",
       "      <th>25</th>\n",
       "      <td>725</td>\n",
       "      <td>0.816</td>\n",
       "    </tr>\n",
       "  </tbody>\n",
       "</table>\n",
       "</div>"
      ],
      "text/plain": [
       "    k value  accuracy score\n",
       "25      725           0.816"
      ]
     },
     "execution_count": 246,
     "metadata": {},
     "output_type": "execute_result"
    }
   ],
   "source": [
    "#Finding the max value of accuarcy for a given k value\n",
    "temp[temp['accuracy score']==temp['accuracy score']. max()]"
   ]
  },
  {
   "cell_type": "code",
   "execution_count": 247,
   "metadata": {},
   "outputs": [
    {
     "name": "stdout",
     "output_type": "stream",
     "text": [
      "The accuarcy score is:  81.6 %\n",
      "The F1 score is:  81.52610441767068 %\n",
      "\n",
      "\n",
      "\n"
     ]
    },
    {
     "data": {
      "image/png": "[encoded data removed]",
      "text/plain": [
       "<Figure size 504x504 with 1 Axes>"
      ]
     },
     "metadata": {},
     "output_type": "display_data"
    }
   ],
   "source": [
    "k = KNeighborsClassifier(weights='distance',n_neighbors=725).fit(Xtrain,y_train)\n",
    "\n",
    "k_pred=k.predict(Xtest)\n",
    "\n",
    "from sklearn.metrics import accuracy_score \n",
    "from sklearn.metrics import classification_report \n",
    "  \n",
    "\n",
    "\n",
    "#Printing the accuracy score and F1 score\n",
    "print(\"The accuarcy score is: \",accuracy_score(y_test,k_pred)*100,\"%\")\n",
    "print(\"The F1 score is: \",metrics.f1_score(y_test, k_pred)*100,\"%\")\n",
    "\n",
    "print(\"\\n\\n\")\n",
    "#Show the confusion matrix\n",
    "cm = metrics.confusion_matrix(y_test,k_pred)\n",
    "plt.figure(figsize=(7, 7))\n",
    "sns.set(font_scale=1.7)\n",
    "sns.heatmap(cm, annot=True, cbar=False, fmt='.0f')\n",
    "sns.set(font_scale=1)\n",
    "plt.title(\"Confusion matrix for KNN with K=39\")\n",
    "plt.show()"
   ]
  },
  {
   "cell_type": "code",
   "execution_count": 248,
   "metadata": {},
   "outputs": [
    {
     "data": {
      "text/html": [
       "<div>\n",
       "<style scoped>\n",
       "    .dataframe tbody tr th:only-of-type {\n",
       "        vertical-align: middle;\n",
       "    }\n",
       "\n",
       "    .dataframe tbody tr th {\n",
       "        vertical-align: top;\n",
       "    }\n",
       "\n",
       "    .dataframe thead th {\n",
       "        text-align: right;\n",
       "    }\n",
       "</style>\n",
       "<table border=\"1\" class=\"dataframe\">\n",
       "  <thead>\n",
       "    <tr style=\"text-align: right;\">\n",
       "      <th></th>\n",
       "      <th>review</th>\n",
       "      <th>sentiment</th>\n",
       "    </tr>\n",
       "  </thead>\n",
       "  <tbody>\n",
       "    <tr>\n",
       "      <th>7</th>\n",
       "      <td>that exactli long movi felt werent even nine l...</td>\n",
       "      <td>0</td>\n",
       "    </tr>\n",
       "    <tr>\n",
       "      <th>12</th>\n",
       "      <td>high fli hong kong style filmmak made way clas...</td>\n",
       "      <td>0</td>\n",
       "    </tr>\n",
       "    <tr>\n",
       "      <th>15</th>\n",
       "      <td>john carpent make b movi alway halloween escap...</td>\n",
       "      <td>0</td>\n",
       "    </tr>\n",
       "    <tr>\n",
       "      <th>28</th>\n",
       "      <td>follow disney live action dalmatian that bette...</td>\n",
       "      <td>0</td>\n",
       "    </tr>\n",
       "    <tr>\n",
       "      <th>34</th>\n",
       "      <td>your watch near two hour bore foul mouth flori...</td>\n",
       "      <td>0</td>\n",
       "    </tr>\n",
       "  </tbody>\n",
       "</table>\n",
       "</div>"
      ],
      "text/plain": [
       "                                               review sentiment\n",
       "7   that exactli long movi felt werent even nine l...         0\n",
       "12  high fli hong kong style filmmak made way clas...         0\n",
       "15  john carpent make b movi alway halloween escap...         0\n",
       "28  follow disney live action dalmatian that bette...         0\n",
       "34  your watch near two hour bore foul mouth flori...         0"
      ]
     },
     "execution_count": 248,
     "metadata": {},
     "output_type": "execute_result"
    }
   ],
   "source": [
    "#Finding wrong predictions\n",
    "\n",
    "indices_k = [i for i in range(len(y_test)) if y_test[i] != k_pred[i]]\n",
    "\n",
    "#temp=pd.DataFrame(docs_test.tolist())\n",
    "wrong_predictions = data.iloc[indices_k,:]\n",
    "\n",
    "wrong_predictions.head(5)"
   ]
  },
  {
   "cell_type": "markdown",
   "metadata": {},
   "source": [
    "\n",
    "\n",
    "* For a particular choice of parameters and classifier, look at 2 examples where the prediction was incorrect.\n",
    "    * Can you conjecture on why the classifier made a mistake for this prediction?"
   ]
  },
  {
   "cell_type": "code",
   "execution_count": 249,
   "metadata": {},
   "outputs": [
    {
     "name": "stdout",
     "output_type": "stream",
     "text": [
      "No of wrong predictions by SVC:  51\n",
      "No of wrong predictions by KNN:  92\n",
      "No of wrong predictions by both:  36\n"
     ]
    }
   ],
   "source": [
    "#Finding records where both classifiers failed to make prediction\n",
    "def intersection(indices_svc, indices_k):\n",
    "    intersection = [value for value in indices_svc if value in indices_k]\n",
    "    return intersection\n",
    "\n",
    "print(\"No of wrong predictions by SVC: \",len(indices_svc))\n",
    "\n",
    "print(\"No of wrong predictions by KNN: \",len(indices_k))\n",
    "\n",
    "print(\"No of wrong predictions by both: \",len(intersection(indices_svc, indices_k)))\n"
   ]
  },
  {
   "cell_type": "code",
   "execution_count": 250,
   "metadata": {},
   "outputs": [
    {
     "data": {
      "text/html": [
       "<div>\n",
       "<style scoped>\n",
       "    .dataframe tbody tr th:only-of-type {\n",
       "        vertical-align: middle;\n",
       "    }\n",
       "\n",
       "    .dataframe tbody tr th {\n",
       "        vertical-align: top;\n",
       "    }\n",
       "\n",
       "    .dataframe thead th {\n",
       "        text-align: right;\n",
       "    }\n",
       "</style>\n",
       "<table border=\"1\" class=\"dataframe\">\n",
       "  <thead>\n",
       "    <tr style=\"text-align: right;\">\n",
       "      <th></th>\n",
       "      <th>review</th>\n",
       "      <th>sentiment</th>\n",
       "    </tr>\n",
       "  </thead>\n",
       "  <tbody>\n",
       "    <tr>\n",
       "      <th>7</th>\n",
       "      <td>that exactli long movi felt werent even nine l...</td>\n",
       "      <td>0</td>\n",
       "    </tr>\n",
       "    <tr>\n",
       "      <th>15</th>\n",
       "      <td>john carpent make b movi alway halloween escap...</td>\n",
       "      <td>0</td>\n",
       "    </tr>\n",
       "    <tr>\n",
       "      <th>36</th>\n",
       "      <td>among multitud erot thriller releas earli woma...</td>\n",
       "      <td>0</td>\n",
       "    </tr>\n",
       "    <tr>\n",
       "      <th>40</th>\n",
       "      <td>lengthi lousi two word describ bore drama engl...</td>\n",
       "      <td>0</td>\n",
       "    </tr>\n",
       "    <tr>\n",
       "      <th>47</th>\n",
       "      <td>instinct kind movi inexperienc moviego undoubt...</td>\n",
       "      <td>0</td>\n",
       "    </tr>\n",
       "  </tbody>\n",
       "</table>\n",
       "</div>"
      ],
      "text/plain": [
       "                                               review sentiment\n",
       "7   that exactli long movi felt werent even nine l...         0\n",
       "15  john carpent make b movi alway halloween escap...         0\n",
       "36  among multitud erot thriller releas earli woma...         0\n",
       "40  lengthi lousi two word describ bore drama engl...         0\n",
       "47  instinct kind movi inexperienc moviego undoubt...         0"
      ]
     },
     "execution_count": 250,
     "metadata": {},
     "output_type": "execute_result"
    }
   ],
   "source": [
    "#We can see that for all of these records where sentiment = 0 the predictions failed.\n",
    "data.iloc[intersection(indices_svc, indices_k),:].head()"
   ]
  },
  {
   "cell_type": "code",
   "execution_count": null,
   "metadata": {},
   "outputs": [],
   "source": []
  },
  {
   "cell_type": "code",
   "execution_count": null,
   "metadata": {},
   "outputs": [],
   "source": []
  },
  {
   "cell_type": "markdown",
   "metadata": {},
   "source": [
    "## Problem 4 (20 points): Open Ended Question:  Finding the Right Plot"
   ]
  },
  {
   "cell_type": "markdown",
   "metadata": {},
   "source": [
    "* Can you find a two-dimensional plot in which the positive and negative reviews are separated?\n",
    "    * This problem is hard since you will likely have thousands of features for review, and you will need to transform these thousands of features into just two numbers (so that you can make a 2D plot).\n",
    "* Note, I was not able to find such a plot myself!\n",
    "    * So, this problem is about **trying** but perhaps **not necessarily succeeding**!\n",
    "* I tried two things, neither of which worked very well.\n",
    "    * I first plotted the length of the review versus the number of features we compute that are in that review\n",
    "    * Second I used Principle Component Analysis on a subset of the features.\n",
    "* Can you do better than I did!?"
   ]
  },
  {
   "cell_type": "markdown",
   "metadata": {},
   "source": [
    "Plotting the length of the review versus the number of features in that review"
   ]
  },
  {
   "cell_type": "code",
   "execution_count": 251,
   "metadata": {
    "ExecuteTime": {
     "end_time": "2022-04-03T20:42:23.566271Z",
     "start_time": "2022-04-03T20:42:22.695707Z"
    }
   },
   "outputs": [
    {
     "data": {
      "text/html": [
       "<div>\n",
       "<style scoped>\n",
       "    .dataframe tbody tr th:only-of-type {\n",
       "        vertical-align: middle;\n",
       "    }\n",
       "\n",
       "    .dataframe tbody tr th {\n",
       "        vertical-align: top;\n",
       "    }\n",
       "\n",
       "    .dataframe thead th {\n",
       "        text-align: right;\n",
       "    }\n",
       "</style>\n",
       "<table border=\"1\" class=\"dataframe\">\n",
       "  <thead>\n",
       "    <tr style=\"text-align: right;\">\n",
       "      <th></th>\n",
       "      <th>review</th>\n",
       "      <th>sentiment</th>\n",
       "      <th>length</th>\n",
       "      <th>num_features</th>\n",
       "    </tr>\n",
       "  </thead>\n",
       "  <tbody>\n",
       "    <tr>\n",
       "      <th>0</th>\n",
       "      <td>well ill damn excel surpris confus campi far i...</td>\n",
       "      <td>1</td>\n",
       "      <td>1872</td>\n",
       "      <td>330</td>\n",
       "    </tr>\n",
       "    <tr>\n",
       "      <th>1</th>\n",
       "      <td>gere willi poitier chase around world jackal f...</td>\n",
       "      <td>1</td>\n",
       "      <td>1940</td>\n",
       "      <td>336</td>\n",
       "    </tr>\n",
       "    <tr>\n",
       "      <th>2</th>\n",
       "      <td>well guess time year one time year movi crafto...</td>\n",
       "      <td>0</td>\n",
       "      <td>2904</td>\n",
       "      <td>512</td>\n",
       "    </tr>\n",
       "    <tr>\n",
       "      <th>3</th>\n",
       "      <td>filmcrit com colleagu norm schrager nail sessi...</td>\n",
       "      <td>1</td>\n",
       "      <td>2864</td>\n",
       "      <td>477</td>\n",
       "    </tr>\n",
       "    <tr>\n",
       "      <th>4</th>\n",
       "      <td>plot someth bunch kid go haunt hous play parod...</td>\n",
       "      <td>0</td>\n",
       "      <td>1816</td>\n",
       "      <td>344</td>\n",
       "    </tr>\n",
       "  </tbody>\n",
       "</table>\n",
       "</div>"
      ],
      "text/plain": [
       "                                              review sentiment  length  \\\n",
       "0  well ill damn excel surpris confus campi far i...         1    1872   \n",
       "1  gere willi poitier chase around world jackal f...         1    1940   \n",
       "2  well guess time year one time year movi crafto...         0    2904   \n",
       "3  filmcrit com colleagu norm schrager nail sessi...         1    2864   \n",
       "4  plot someth bunch kid go haunt hous play parod...         0    1816   \n",
       "\n",
       "   num_features  \n",
       "0           330  \n",
       "1           336  \n",
       "2           512  \n",
       "3           477  \n",
       "4           344  "
      ]
     },
     "execution_count": 251,
     "metadata": {},
     "output_type": "execute_result"
    }
   ],
   "source": [
    "#Creating a dataframe of features and length of review\n",
    "vectorizer = TfidfVectorizer(min_df=2, max_df=600, ngram_range=(1,3))\n",
    "\n",
    "vectorized_matrix = vectorizer.fit_transform(train_df.review)\n",
    "\n",
    "vec_df = pd.DataFrame(data=vectorized_matrix.todense(),columns=vectorizer.get_feature_names())\n",
    "\n",
    "\n",
    "def get_num_features(idx: int) -> int:\n",
    "    return len(np.nonzero(vec_df.iloc[idx].values)[0])\n",
    "\n",
    "num_tokens = []\n",
    "for idx, _ in train_df.iterrows():\n",
    "    num_tokens.append(get_num_features(idx))\n",
    "\n",
    "train_df['num_features'] = num_tokens\n",
    "\n",
    "train_df.head(5)"
   ]
  },
  {
   "cell_type": "code",
   "execution_count": 253,
   "metadata": {},
   "outputs": [
    {
     "data": {
      "image/png": "[encoded data removed]",
      "text/plain": [
       "<Figure size 420.925x360 with 1 Axes>"
      ]
     },
     "metadata": {},
     "output_type": "display_data"
    }
   ],
   "source": [
    "sns.lmplot(x='length', y='num_features', data=train_df, hue='sentiment')\n",
    "plt.show()"
   ]
  },
  {
   "cell_type": "code",
   "execution_count": null,
   "metadata": {},
   "outputs": [],
   "source": []
  },
  {
   "cell_type": "code",
   "execution_count": null,
   "metadata": {},
   "outputs": [],
   "source": []
  },
  {
   "cell_type": "code",
   "execution_count": null,
   "metadata": {},
   "outputs": [],
   "source": []
  },
  {
   "cell_type": "code",
   "execution_count": null,
   "metadata": {},
   "outputs": [],
   "source": []
  },
  {
   "cell_type": "code",
   "execution_count": null,
   "metadata": {},
   "outputs": [],
   "source": []
  }
 ],
 "metadata": {
  "kernel_info": {
   "name": "python3"
  },
  "kernelspec": {
   "display_name": "Python 3 (ipykernel)",
   "language": "python",
   "name": "python3"
  },
  "language_info": {
   "codemirror_mode": {
    "name": "ipython",
    "version": 3
   },
   "file_extension": ".py",
   "mimetype": "text/x-python",
   "name": "python",
   "nbconvert_exporter": "python",
   "pygments_lexer": "ipython3",
   "version": "3.9.7"
  },
  "nteract": {
   "version": "0.2.0"
  }
 },
 "nbformat": 4,
 "nbformat_minor": 4
}
